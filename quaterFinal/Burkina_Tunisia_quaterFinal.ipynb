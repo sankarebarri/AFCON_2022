{
 "cells": [
  {
   "cell_type": "code",
   "execution_count": 1,
   "id": "01bbceda",
   "metadata": {},
   "outputs": [],
   "source": [
    "import pandas as pd\n",
    "import matplotlib.pyplot as plt"
   ]
  },
  {
   "cell_type": "code",
   "execution_count": 2,
   "id": "8ff89f27",
   "metadata": {},
   "outputs": [
    {
     "data": {
      "text/html": [
       "<div>\n",
       "<style scoped>\n",
       "    .dataframe tbody tr th:only-of-type {\n",
       "        vertical-align: middle;\n",
       "    }\n",
       "\n",
       "    .dataframe tbody tr th {\n",
       "        vertical-align: top;\n",
       "    }\n",
       "\n",
       "    .dataframe thead th {\n",
       "        text-align: right;\n",
       "    }\n",
       "</style>\n",
       "<table border=\"1\" class=\"dataframe\">\n",
       "  <thead>\n",
       "    <tr style=\"text-align: right;\">\n",
       "      <th></th>\n",
       "      <th>date</th>\n",
       "      <th>home_team</th>\n",
       "      <th>away_team</th>\n",
       "      <th>home_score</th>\n",
       "      <th>away_score</th>\n",
       "      <th>tournament</th>\n",
       "      <th>city</th>\n",
       "      <th>country</th>\n",
       "      <th>neutral</th>\n",
       "    </tr>\n",
       "  </thead>\n",
       "  <tbody>\n",
       "    <tr>\n",
       "      <th>0</th>\n",
       "      <td>1872-11-30</td>\n",
       "      <td>Scotland</td>\n",
       "      <td>England</td>\n",
       "      <td>0.0</td>\n",
       "      <td>0.0</td>\n",
       "      <td>Friendly</td>\n",
       "      <td>Glasgow</td>\n",
       "      <td>Scotland</td>\n",
       "      <td>False</td>\n",
       "    </tr>\n",
       "    <tr>\n",
       "      <th>1</th>\n",
       "      <td>1873-03-08</td>\n",
       "      <td>England</td>\n",
       "      <td>Scotland</td>\n",
       "      <td>4.0</td>\n",
       "      <td>2.0</td>\n",
       "      <td>Friendly</td>\n",
       "      <td>London</td>\n",
       "      <td>England</td>\n",
       "      <td>False</td>\n",
       "    </tr>\n",
       "    <tr>\n",
       "      <th>2</th>\n",
       "      <td>1874-03-07</td>\n",
       "      <td>Scotland</td>\n",
       "      <td>England</td>\n",
       "      <td>2.0</td>\n",
       "      <td>1.0</td>\n",
       "      <td>Friendly</td>\n",
       "      <td>Glasgow</td>\n",
       "      <td>Scotland</td>\n",
       "      <td>False</td>\n",
       "    </tr>\n",
       "    <tr>\n",
       "      <th>3</th>\n",
       "      <td>1875-03-06</td>\n",
       "      <td>England</td>\n",
       "      <td>Scotland</td>\n",
       "      <td>2.0</td>\n",
       "      <td>2.0</td>\n",
       "      <td>Friendly</td>\n",
       "      <td>London</td>\n",
       "      <td>England</td>\n",
       "      <td>False</td>\n",
       "    </tr>\n",
       "    <tr>\n",
       "      <th>4</th>\n",
       "      <td>1876-03-04</td>\n",
       "      <td>Scotland</td>\n",
       "      <td>England</td>\n",
       "      <td>3.0</td>\n",
       "      <td>0.0</td>\n",
       "      <td>Friendly</td>\n",
       "      <td>Glasgow</td>\n",
       "      <td>Scotland</td>\n",
       "      <td>False</td>\n",
       "    </tr>\n",
       "  </tbody>\n",
       "</table>\n",
       "</div>"
      ],
      "text/plain": [
       "         date home_team away_team  home_score  away_score tournament     city  \\\n",
       "0  1872-11-30  Scotland   England         0.0         0.0   Friendly  Glasgow   \n",
       "1  1873-03-08   England  Scotland         4.0         2.0   Friendly   London   \n",
       "2  1874-03-07  Scotland   England         2.0         1.0   Friendly  Glasgow   \n",
       "3  1875-03-06   England  Scotland         2.0         2.0   Friendly   London   \n",
       "4  1876-03-04  Scotland   England         3.0         0.0   Friendly  Glasgow   \n",
       "\n",
       "    country neutral  \n",
       "0  Scotland   False  \n",
       "1   England   False  \n",
       "2  Scotland   False  \n",
       "3   England   False  \n",
       "4  Scotland   False  "
      ]
     },
     "execution_count": 2,
     "metadata": {},
     "output_type": "execute_result"
    }
   ],
   "source": [
    "data = pd.read_csv('../data/results.csv')\n",
    "data.head()"
   ]
  },
  {
   "cell_type": "code",
   "execution_count": 3,
   "id": "e1cad78b",
   "metadata": {},
   "outputs": [],
   "source": [
    "burk_tun = data[((data['home_team'] == 'Burkina Faso') & (data['away_team'] == 'Tunisia')) | (data['home_team'] == 'Tunisia') & (data['away_team'] == 'Burkina Faso')]"
   ]
  },
  {
   "cell_type": "code",
   "execution_count": 4,
   "id": "49b44965",
   "metadata": {},
   "outputs": [
    {
     "data": {
      "text/html": [
       "<div>\n",
       "<style scoped>\n",
       "    .dataframe tbody tr th:only-of-type {\n",
       "        vertical-align: middle;\n",
       "    }\n",
       "\n",
       "    .dataframe tbody tr th {\n",
       "        vertical-align: top;\n",
       "    }\n",
       "\n",
       "    .dataframe thead th {\n",
       "        text-align: right;\n",
       "    }\n",
       "</style>\n",
       "<table border=\"1\" class=\"dataframe\">\n",
       "  <thead>\n",
       "    <tr style=\"text-align: right;\">\n",
       "      <th></th>\n",
       "      <th>date</th>\n",
       "      <th>home_team</th>\n",
       "      <th>away_team</th>\n",
       "      <th>home_score</th>\n",
       "      <th>away_score</th>\n",
       "      <th>tournament</th>\n",
       "      <th>city</th>\n",
       "      <th>country</th>\n",
       "      <th>neutral</th>\n",
       "    </tr>\n",
       "  </thead>\n",
       "  <tbody>\n",
       "    <tr>\n",
       "      <th>19303</th>\n",
       "      <td>1995-10-22</td>\n",
       "      <td>Burkina Faso</td>\n",
       "      <td>Tunisia</td>\n",
       "      <td>2.0</td>\n",
       "      <td>2.0</td>\n",
       "      <td>Friendly</td>\n",
       "      <td>Ouagadougou</td>\n",
       "      <td>Burkina Faso</td>\n",
       "      <td>False</td>\n",
       "    </tr>\n",
       "    <tr>\n",
       "      <th>19390</th>\n",
       "      <td>1995-11-29</td>\n",
       "      <td>Tunisia</td>\n",
       "      <td>Burkina Faso</td>\n",
       "      <td>3.0</td>\n",
       "      <td>0.0</td>\n",
       "      <td>Friendly</td>\n",
       "      <td>Tunis</td>\n",
       "      <td>Tunisia</td>\n",
       "      <td>False</td>\n",
       "    </tr>\n",
       "    <tr>\n",
       "      <th>21236</th>\n",
       "      <td>1998-02-21</td>\n",
       "      <td>Burkina Faso</td>\n",
       "      <td>Tunisia</td>\n",
       "      <td>1.0</td>\n",
       "      <td>1.0</td>\n",
       "      <td>African Cup of Nations</td>\n",
       "      <td>Ouagadougou</td>\n",
       "      <td>Burkina Faso</td>\n",
       "      <td>False</td>\n",
       "    </tr>\n",
       "    <tr>\n",
       "      <th>30345</th>\n",
       "      <td>2008-06-01</td>\n",
       "      <td>Tunisia</td>\n",
       "      <td>Burkina Faso</td>\n",
       "      <td>1.0</td>\n",
       "      <td>2.0</td>\n",
       "      <td>FIFA World Cup qualification</td>\n",
       "      <td>Radès</td>\n",
       "      <td>Tunisia</td>\n",
       "      <td>False</td>\n",
       "    </tr>\n",
       "    <tr>\n",
       "      <th>30709</th>\n",
       "      <td>2008-09-06</td>\n",
       "      <td>Burkina Faso</td>\n",
       "      <td>Tunisia</td>\n",
       "      <td>0.0</td>\n",
       "      <td>0.0</td>\n",
       "      <td>FIFA World Cup qualification</td>\n",
       "      <td>Ouagadougou</td>\n",
       "      <td>Burkina Faso</td>\n",
       "      <td>False</td>\n",
       "    </tr>\n",
       "    <tr>\n",
       "      <th>38751</th>\n",
       "      <td>2017-01-28</td>\n",
       "      <td>Burkina Faso</td>\n",
       "      <td>Tunisia</td>\n",
       "      <td>2.0</td>\n",
       "      <td>0.0</td>\n",
       "      <td>African Cup of Nations</td>\n",
       "      <td>Libreville</td>\n",
       "      <td>Gabon</td>\n",
       "      <td>True</td>\n",
       "    </tr>\n",
       "  </tbody>\n",
       "</table>\n",
       "</div>"
      ],
      "text/plain": [
       "             date     home_team     away_team  home_score  away_score  \\\n",
       "19303  1995-10-22  Burkina Faso       Tunisia         2.0         2.0   \n",
       "19390  1995-11-29       Tunisia  Burkina Faso         3.0         0.0   \n",
       "21236  1998-02-21  Burkina Faso       Tunisia         1.0         1.0   \n",
       "30345  2008-06-01       Tunisia  Burkina Faso         1.0         2.0   \n",
       "30709  2008-09-06  Burkina Faso       Tunisia         0.0         0.0   \n",
       "38751  2017-01-28  Burkina Faso       Tunisia         2.0         0.0   \n",
       "\n",
       "                         tournament         city       country neutral  \n",
       "19303                      Friendly  Ouagadougou  Burkina Faso   False  \n",
       "19390                      Friendly        Tunis       Tunisia   False  \n",
       "21236        African Cup of Nations  Ouagadougou  Burkina Faso   False  \n",
       "30345  FIFA World Cup qualification        Radès       Tunisia   False  \n",
       "30709  FIFA World Cup qualification  Ouagadougou  Burkina Faso   False  \n",
       "38751        African Cup of Nations   Libreville         Gabon    True  "
      ]
     },
     "execution_count": 4,
     "metadata": {},
     "output_type": "execute_result"
    }
   ],
   "source": [
    "burk_tun"
   ]
  },
  {
   "cell_type": "code",
   "execution_count": 5,
   "id": "98f40b68",
   "metadata": {},
   "outputs": [
    {
     "data": {
      "text/html": [
       "<div>\n",
       "<style scoped>\n",
       "    .dataframe tbody tr th:only-of-type {\n",
       "        vertical-align: middle;\n",
       "    }\n",
       "\n",
       "    .dataframe tbody tr th {\n",
       "        vertical-align: top;\n",
       "    }\n",
       "\n",
       "    .dataframe thead th {\n",
       "        text-align: right;\n",
       "    }\n",
       "</style>\n",
       "<table border=\"1\" class=\"dataframe\">\n",
       "  <thead>\n",
       "    <tr style=\"text-align: right;\">\n",
       "      <th></th>\n",
       "      <th>date</th>\n",
       "      <th>home_team</th>\n",
       "      <th>away_team</th>\n",
       "      <th>home_score</th>\n",
       "      <th>away_score</th>\n",
       "      <th>tournament</th>\n",
       "      <th>city</th>\n",
       "      <th>country</th>\n",
       "      <th>neutral</th>\n",
       "    </tr>\n",
       "  </thead>\n",
       "  <tbody>\n",
       "    <tr>\n",
       "      <th>19303</th>\n",
       "      <td>1995-10-22</td>\n",
       "      <td>Burkina Faso</td>\n",
       "      <td>Tunisia</td>\n",
       "      <td>2.0</td>\n",
       "      <td>2.0</td>\n",
       "      <td>Friendly</td>\n",
       "      <td>Ouagadougou</td>\n",
       "      <td>Burkina Faso</td>\n",
       "      <td>False</td>\n",
       "    </tr>\n",
       "    <tr>\n",
       "      <th>19390</th>\n",
       "      <td>1995-11-29</td>\n",
       "      <td>Tunisia</td>\n",
       "      <td>Burkina Faso</td>\n",
       "      <td>3.0</td>\n",
       "      <td>0.0</td>\n",
       "      <td>Friendly</td>\n",
       "      <td>Tunis</td>\n",
       "      <td>Tunisia</td>\n",
       "      <td>False</td>\n",
       "    </tr>\n",
       "  </tbody>\n",
       "</table>\n",
       "</div>"
      ],
      "text/plain": [
       "             date     home_team     away_team  home_score  away_score  \\\n",
       "19303  1995-10-22  Burkina Faso       Tunisia         2.0         2.0   \n",
       "19390  1995-11-29       Tunisia  Burkina Faso         3.0         0.0   \n",
       "\n",
       "      tournament         city       country neutral  \n",
       "19303   Friendly  Ouagadougou  Burkina Faso   False  \n",
       "19390   Friendly        Tunis       Tunisia   False  "
      ]
     },
     "execution_count": 5,
     "metadata": {},
     "output_type": "execute_result"
    }
   ],
   "source": [
    "friendly = burk_tun[burk_tun['tournament'] == 'Friendly']\n",
    "friendly"
   ]
  },
  {
   "cell_type": "code",
   "execution_count": 6,
   "id": "c0b331b9",
   "metadata": {},
   "outputs": [
    {
     "data": {
      "text/html": [
       "<div>\n",
       "<style scoped>\n",
       "    .dataframe tbody tr th:only-of-type {\n",
       "        vertical-align: middle;\n",
       "    }\n",
       "\n",
       "    .dataframe tbody tr th {\n",
       "        vertical-align: top;\n",
       "    }\n",
       "\n",
       "    .dataframe thead th {\n",
       "        text-align: right;\n",
       "    }\n",
       "</style>\n",
       "<table border=\"1\" class=\"dataframe\">\n",
       "  <thead>\n",
       "    <tr style=\"text-align: right;\">\n",
       "      <th></th>\n",
       "      <th>date</th>\n",
       "      <th>home_team</th>\n",
       "      <th>away_team</th>\n",
       "      <th>home_score</th>\n",
       "      <th>away_score</th>\n",
       "      <th>tournament</th>\n",
       "      <th>city</th>\n",
       "      <th>country</th>\n",
       "      <th>neutral</th>\n",
       "    </tr>\n",
       "  </thead>\n",
       "  <tbody>\n",
       "    <tr>\n",
       "      <th>21236</th>\n",
       "      <td>1998-02-21</td>\n",
       "      <td>Burkina Faso</td>\n",
       "      <td>Tunisia</td>\n",
       "      <td>1.0</td>\n",
       "      <td>1.0</td>\n",
       "      <td>African Cup of Nations</td>\n",
       "      <td>Ouagadougou</td>\n",
       "      <td>Burkina Faso</td>\n",
       "      <td>False</td>\n",
       "    </tr>\n",
       "    <tr>\n",
       "      <th>30345</th>\n",
       "      <td>2008-06-01</td>\n",
       "      <td>Tunisia</td>\n",
       "      <td>Burkina Faso</td>\n",
       "      <td>1.0</td>\n",
       "      <td>2.0</td>\n",
       "      <td>FIFA World Cup qualification</td>\n",
       "      <td>Radès</td>\n",
       "      <td>Tunisia</td>\n",
       "      <td>False</td>\n",
       "    </tr>\n",
       "    <tr>\n",
       "      <th>30709</th>\n",
       "      <td>2008-09-06</td>\n",
       "      <td>Burkina Faso</td>\n",
       "      <td>Tunisia</td>\n",
       "      <td>0.0</td>\n",
       "      <td>0.0</td>\n",
       "      <td>FIFA World Cup qualification</td>\n",
       "      <td>Ouagadougou</td>\n",
       "      <td>Burkina Faso</td>\n",
       "      <td>False</td>\n",
       "    </tr>\n",
       "    <tr>\n",
       "      <th>38751</th>\n",
       "      <td>2017-01-28</td>\n",
       "      <td>Burkina Faso</td>\n",
       "      <td>Tunisia</td>\n",
       "      <td>2.0</td>\n",
       "      <td>0.0</td>\n",
       "      <td>African Cup of Nations</td>\n",
       "      <td>Libreville</td>\n",
       "      <td>Gabon</td>\n",
       "      <td>True</td>\n",
       "    </tr>\n",
       "  </tbody>\n",
       "</table>\n",
       "</div>"
      ],
      "text/plain": [
       "             date     home_team     away_team  home_score  away_score  \\\n",
       "21236  1998-02-21  Burkina Faso       Tunisia         1.0         1.0   \n",
       "30345  2008-06-01       Tunisia  Burkina Faso         1.0         2.0   \n",
       "30709  2008-09-06  Burkina Faso       Tunisia         0.0         0.0   \n",
       "38751  2017-01-28  Burkina Faso       Tunisia         2.0         0.0   \n",
       "\n",
       "                         tournament         city       country neutral  \n",
       "21236        African Cup of Nations  Ouagadougou  Burkina Faso   False  \n",
       "30345  FIFA World Cup qualification        Radès       Tunisia   False  \n",
       "30709  FIFA World Cup qualification  Ouagadougou  Burkina Faso   False  \n",
       "38751        African Cup of Nations   Libreville         Gabon    True  "
      ]
     },
     "execution_count": 6,
     "metadata": {},
     "output_type": "execute_result"
    }
   ],
   "source": [
    "not_friendly = burk_tun[burk_tun['tournament'] != 'Friendly']\n",
    "not_friendly"
   ]
  },
  {
   "cell_type": "code",
   "execution_count": 7,
   "id": "91fd8df7",
   "metadata": {},
   "outputs": [],
   "source": [
    "def get_results(competition, country_A, country_B):\n",
    "    win_A = 0 # country A win\n",
    "    draw = 0 # draw of country_A and country_B are equal\n",
    "    #lost_A = 0 # country A lost\n",
    "    for i, j, k, l in zip(competition['home_team'], competition['away_team'], competition['home_score'], competition['away_score']):\n",
    "        if ((i == country_A and k > l) or (j == country_A and k < l)):\n",
    "            win_A += 1\n",
    "        elif ((i == country_A and k == l) or (j == country_A and l == k)):\n",
    "            draw += 1\n",
    "    return [win_A, draw, len(competition)-(win_A + draw)]"
   ]
  },
  {
   "cell_type": "code",
   "execution_count": 8,
   "id": "bdadf806",
   "metadata": {},
   "outputs": [
    {
     "data": {
      "text/plain": [
       "[2, 3, 1]"
      ]
     },
     "execution_count": 8,
     "metadata": {},
     "output_type": "execute_result"
    }
   ],
   "source": [
    "get_results(burk_tun, 'Burkina Faso', 'Tunisia')"
   ]
  },
  {
   "cell_type": "code",
   "execution_count": 9,
   "id": "3ebd6d93",
   "metadata": {},
   "outputs": [
    {
     "data": {
      "text/plain": [
       "[0, 1, 1]"
      ]
     },
     "execution_count": 9,
     "metadata": {},
     "output_type": "execute_result"
    }
   ],
   "source": [
    "get_results(friendly, 'Burkina Faso', 'Tunisia')"
   ]
  },
  {
   "cell_type": "code",
   "execution_count": 10,
   "id": "ee1ccca5",
   "metadata": {},
   "outputs": [
    {
     "data": {
      "text/plain": [
       "[2, 2, 0]"
      ]
     },
     "execution_count": 10,
     "metadata": {},
     "output_type": "execute_result"
    }
   ],
   "source": [
    "get_results(not_friendly, 'Burkina Faso', 'Tunisia')"
   ]
  },
  {
   "cell_type": "code",
   "execution_count": 11,
   "id": "3a3e4b91",
   "metadata": {},
   "outputs": [
    {
     "data": {
      "image/png": "[encoded data removed]",
      "text/plain": [
       "<Figure size 720x720 with 2 Axes>"
      ]
     },
     "metadata": {},
     "output_type": "display_data"
    }
   ],
   "source": [
    "labels1 = ['BURKINA WON(0)', 'DRAW(1)', 'TUNISIA WON(1)']\n",
    "sizes1 = get_results(friendly, 'Burkina Faso', 'Tunisia')\n",
    "\n",
    "labels2 = ['BURKINA WON(2)', 'DRAW(2)', 'TUNISIA WON(0)']\n",
    "sizes2 = get_results(not_friendly, 'Burkina Faso', 'Tunisia')\n",
    "\n",
    "fig, (ax1, ax2) = plt.subplots(nrows=2, ncols=1, figsize=(10, 10))\n",
    "\n",
    "ax1.pie(sizes1, labels=labels1, autopct='%.0f%%')\n",
    "ax2.pie(sizes2, labels=labels2, autopct='%.0f%%')\n",
    "\n",
    "\n",
    "\n",
    "ax1.set_title('FRIENDLY MATCHES(2)')\n",
    "ax2.set_title('NON-FRIENDLY MATCHES(4)')\n",
    "\n",
    "\n",
    "#plt.show()\n",
    "plt.savefig(\"burkina_tunisia1.png\")"
   ]
  },
  {
   "cell_type": "code",
   "execution_count": 12,
   "id": "914ee5a7",
   "metadata": {},
   "outputs": [
    {
     "data": {
      "image/png": "[encoded data removed]",
      "text/plain": [
       "<Figure size 720x720 with 1 Axes>"
      ]
     },
     "metadata": {},
     "output_type": "display_data"
    }
   ],
   "source": [
    "labels = ['BURKINA WON(2)', 'DRAW(3)', 'TUNISIA WON(1)']\n",
    "sizes = get_results(burk_tun, 'Burkina Faso', 'Tunisia')\n",
    "\n",
    "fig, ax1 = plt.subplots(figsize=(10, 10))\n",
    "\n",
    "ax1.pie(sizes, labels=labels, autopct='%.0f%%')\n",
    "ax1.set_title('ALL MATCHES(6)', fontsize=25)\n",
    "\n",
    "\n",
    "#plt.show()\n",
    "plt.savefig(\"burkina_tunisia2.png\")"
   ]
  },
  {
   "cell_type": "code",
   "execution_count": null,
   "id": "0848edbb",
   "metadata": {},
   "outputs": [],
   "source": []
  }
 ],
 "metadata": {
  "kernelspec": {
   "display_name": "Python 3 (ipykernel)",
   "language": "python",
   "name": "python3"
  },
  "language_info": {
   "codemirror_mode": {
    "name": "ipython",
    "version": 3
   },
   "file_extension": ".py",
   "mimetype": "text/x-python",
   "name": "python",
   "nbconvert_exporter": "python",
   "pygments_lexer": "ipython3",
   "version": "3.9.7"
  }
 },
 "nbformat": 4,
 "nbformat_minor": 5
}
