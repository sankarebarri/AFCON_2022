{
 "cells": [
  {
   "cell_type": "code",
   "execution_count": 1,
   "id": "ea4e2c66",
   "metadata": {},
   "outputs": [],
   "source": [
    "import pandas as pd\n",
    "import matplotlib.pyplot as plt"
   ]
  },
  {
   "cell_type": "code",
   "execution_count": 2,
   "id": "e6d5c7f5",
   "metadata": {},
   "outputs": [
    {
     "data": {
      "text/html": [
       "<div>\n",
       "<style scoped>\n",
       "    .dataframe tbody tr th:only-of-type {\n",
       "        vertical-align: middle;\n",
       "    }\n",
       "\n",
       "    .dataframe tbody tr th {\n",
       "        vertical-align: top;\n",
       "    }\n",
       "\n",
       "    .dataframe thead th {\n",
       "        text-align: right;\n",
       "    }\n",
       "</style>\n",
       "<table border=\"1\" class=\"dataframe\">\n",
       "  <thead>\n",
       "    <tr style=\"text-align: right;\">\n",
       "      <th></th>\n",
       "      <th>date</th>\n",
       "      <th>home_team</th>\n",
       "      <th>away_team</th>\n",
       "      <th>home_score</th>\n",
       "      <th>away_score</th>\n",
       "      <th>tournament</th>\n",
       "      <th>city</th>\n",
       "      <th>country</th>\n",
       "      <th>neutral</th>\n",
       "    </tr>\n",
       "  </thead>\n",
       "  <tbody>\n",
       "    <tr>\n",
       "      <th>0</th>\n",
       "      <td>1872-11-30</td>\n",
       "      <td>Scotland</td>\n",
       "      <td>England</td>\n",
       "      <td>0.0</td>\n",
       "      <td>0.0</td>\n",
       "      <td>Friendly</td>\n",
       "      <td>Glasgow</td>\n",
       "      <td>Scotland</td>\n",
       "      <td>False</td>\n",
       "    </tr>\n",
       "    <tr>\n",
       "      <th>1</th>\n",
       "      <td>1873-03-08</td>\n",
       "      <td>England</td>\n",
       "      <td>Scotland</td>\n",
       "      <td>4.0</td>\n",
       "      <td>2.0</td>\n",
       "      <td>Friendly</td>\n",
       "      <td>London</td>\n",
       "      <td>England</td>\n",
       "      <td>False</td>\n",
       "    </tr>\n",
       "    <tr>\n",
       "      <th>2</th>\n",
       "      <td>1874-03-07</td>\n",
       "      <td>Scotland</td>\n",
       "      <td>England</td>\n",
       "      <td>2.0</td>\n",
       "      <td>1.0</td>\n",
       "      <td>Friendly</td>\n",
       "      <td>Glasgow</td>\n",
       "      <td>Scotland</td>\n",
       "      <td>False</td>\n",
       "    </tr>\n",
       "    <tr>\n",
       "      <th>3</th>\n",
       "      <td>1875-03-06</td>\n",
       "      <td>England</td>\n",
       "      <td>Scotland</td>\n",
       "      <td>2.0</td>\n",
       "      <td>2.0</td>\n",
       "      <td>Friendly</td>\n",
       "      <td>London</td>\n",
       "      <td>England</td>\n",
       "      <td>False</td>\n",
       "    </tr>\n",
       "    <tr>\n",
       "      <th>4</th>\n",
       "      <td>1876-03-04</td>\n",
       "      <td>Scotland</td>\n",
       "      <td>England</td>\n",
       "      <td>3.0</td>\n",
       "      <td>0.0</td>\n",
       "      <td>Friendly</td>\n",
       "      <td>Glasgow</td>\n",
       "      <td>Scotland</td>\n",
       "      <td>False</td>\n",
       "    </tr>\n",
       "  </tbody>\n",
       "</table>\n",
       "</div>"
      ],
      "text/plain": [
       "         date home_team away_team  home_score  away_score tournament     city  \\\n",
       "0  1872-11-30  Scotland   England         0.0         0.0   Friendly  Glasgow   \n",
       "1  1873-03-08   England  Scotland         4.0         2.0   Friendly   London   \n",
       "2  1874-03-07  Scotland   England         2.0         1.0   Friendly  Glasgow   \n",
       "3  1875-03-06   England  Scotland         2.0         2.0   Friendly   London   \n",
       "4  1876-03-04  Scotland   England         3.0         0.0   Friendly  Glasgow   \n",
       "\n",
       "    country neutral  \n",
       "0  Scotland   False  \n",
       "1   England   False  \n",
       "2  Scotland   False  \n",
       "3   England   False  \n",
       "4  Scotland   False  "
      ]
     },
     "execution_count": 2,
     "metadata": {},
     "output_type": "execute_result"
    }
   ],
   "source": [
    "data = pd.read_csv('../data/results.csv')\n",
    "data.head()"
   ]
  },
  {
   "cell_type": "code",
   "execution_count": 5,
   "id": "e8af164c",
   "metadata": {},
   "outputs": [],
   "source": [
    "morco_malaw = data[((data['home_team'] == 'Morocco') & (data['away_team'] == 'Malawi')) | (data['home_team'] == 'Malawi') & (data['away_team'] == 'Morocco')]"
   ]
  },
  {
   "cell_type": "code",
   "execution_count": 6,
   "id": "1c475456",
   "metadata": {},
   "outputs": [
    {
     "data": {
      "text/html": [
       "<div>\n",
       "<style scoped>\n",
       "    .dataframe tbody tr th:only-of-type {\n",
       "        vertical-align: middle;\n",
       "    }\n",
       "\n",
       "    .dataframe tbody tr th {\n",
       "        vertical-align: top;\n",
       "    }\n",
       "\n",
       "    .dataframe thead th {\n",
       "        text-align: right;\n",
       "    }\n",
       "</style>\n",
       "<table border=\"1\" class=\"dataframe\">\n",
       "  <thead>\n",
       "    <tr style=\"text-align: right;\">\n",
       "      <th></th>\n",
       "      <th>date</th>\n",
       "      <th>home_team</th>\n",
       "      <th>away_team</th>\n",
       "      <th>home_score</th>\n",
       "      <th>away_score</th>\n",
       "      <th>tournament</th>\n",
       "      <th>city</th>\n",
       "      <th>country</th>\n",
       "      <th>neutral</th>\n",
       "    </tr>\n",
       "  </thead>\n",
       "  <tbody>\n",
       "    <tr>\n",
       "      <th>13750</th>\n",
       "      <td>1985-04-07</td>\n",
       "      <td>Morocco</td>\n",
       "      <td>Malawi</td>\n",
       "      <td>2.0</td>\n",
       "      <td>0.0</td>\n",
       "      <td>FIFA World Cup qualification</td>\n",
       "      <td>Rabat</td>\n",
       "      <td>Morocco</td>\n",
       "      <td>False</td>\n",
       "    </tr>\n",
       "    <tr>\n",
       "      <th>13788</th>\n",
       "      <td>1985-04-21</td>\n",
       "      <td>Malawi</td>\n",
       "      <td>Morocco</td>\n",
       "      <td>0.0</td>\n",
       "      <td>0.0</td>\n",
       "      <td>FIFA World Cup qualification</td>\n",
       "      <td>Blantyre</td>\n",
       "      <td>Malawi</td>\n",
       "      <td>False</td>\n",
       "    </tr>\n",
       "    <tr>\n",
       "      <th>17682</th>\n",
       "      <td>1993-04-11</td>\n",
       "      <td>Morocco</td>\n",
       "      <td>Malawi</td>\n",
       "      <td>0.0</td>\n",
       "      <td>1.0</td>\n",
       "      <td>African Cup of Nations qualification</td>\n",
       "      <td>Rabat</td>\n",
       "      <td>Morocco</td>\n",
       "      <td>False</td>\n",
       "    </tr>\n",
       "    <tr>\n",
       "      <th>18035</th>\n",
       "      <td>1993-07-25</td>\n",
       "      <td>Malawi</td>\n",
       "      <td>Morocco</td>\n",
       "      <td>0.0</td>\n",
       "      <td>2.0</td>\n",
       "      <td>African Cup of Nations qualification</td>\n",
       "      <td>Lilongwe</td>\n",
       "      <td>Malawi</td>\n",
       "      <td>False</td>\n",
       "    </tr>\n",
       "    <tr>\n",
       "      <th>26710</th>\n",
       "      <td>2004-06-05</td>\n",
       "      <td>Malawi</td>\n",
       "      <td>Morocco</td>\n",
       "      <td>1.0</td>\n",
       "      <td>1.0</td>\n",
       "      <td>FIFA World Cup qualification</td>\n",
       "      <td>Blantyre</td>\n",
       "      <td>Malawi</td>\n",
       "      <td>False</td>\n",
       "    </tr>\n",
       "    <tr>\n",
       "      <th>27651</th>\n",
       "      <td>2005-06-04</td>\n",
       "      <td>Morocco</td>\n",
       "      <td>Malawi</td>\n",
       "      <td>4.0</td>\n",
       "      <td>1.0</td>\n",
       "      <td>FIFA World Cup qualification</td>\n",
       "      <td>Rabat</td>\n",
       "      <td>Morocco</td>\n",
       "      <td>False</td>\n",
       "    </tr>\n",
       "    <tr>\n",
       "      <th>29391</th>\n",
       "      <td>2007-06-16</td>\n",
       "      <td>Malawi</td>\n",
       "      <td>Morocco</td>\n",
       "      <td>0.0</td>\n",
       "      <td>1.0</td>\n",
       "      <td>African Cup of Nations qualification</td>\n",
       "      <td>Blantyre</td>\n",
       "      <td>Malawi</td>\n",
       "      <td>False</td>\n",
       "    </tr>\n",
       "  </tbody>\n",
       "</table>\n",
       "</div>"
      ],
      "text/plain": [
       "             date home_team away_team  home_score  away_score  \\\n",
       "13750  1985-04-07   Morocco    Malawi         2.0         0.0   \n",
       "13788  1985-04-21    Malawi   Morocco         0.0         0.0   \n",
       "17682  1993-04-11   Morocco    Malawi         0.0         1.0   \n",
       "18035  1993-07-25    Malawi   Morocco         0.0         2.0   \n",
       "26710  2004-06-05    Malawi   Morocco         1.0         1.0   \n",
       "27651  2005-06-04   Morocco    Malawi         4.0         1.0   \n",
       "29391  2007-06-16    Malawi   Morocco         0.0         1.0   \n",
       "\n",
       "                                 tournament      city  country neutral  \n",
       "13750          FIFA World Cup qualification     Rabat  Morocco   False  \n",
       "13788          FIFA World Cup qualification  Blantyre   Malawi   False  \n",
       "17682  African Cup of Nations qualification     Rabat  Morocco   False  \n",
       "18035  African Cup of Nations qualification  Lilongwe   Malawi   False  \n",
       "26710          FIFA World Cup qualification  Blantyre   Malawi   False  \n",
       "27651          FIFA World Cup qualification     Rabat  Morocco   False  \n",
       "29391  African Cup of Nations qualification  Blantyre   Malawi   False  "
      ]
     },
     "execution_count": 6,
     "metadata": {},
     "output_type": "execute_result"
    }
   ],
   "source": [
    "morco_malaw"
   ]
  },
  {
   "cell_type": "code",
   "execution_count": 7,
   "id": "6cc213f5",
   "metadata": {},
   "outputs": [
    {
     "data": {
      "text/plain": [
       "7"
      ]
     },
     "execution_count": 7,
     "metadata": {},
     "output_type": "execute_result"
    }
   ],
   "source": [
    "len(morco_malaw)"
   ]
  },
  {
   "cell_type": "code",
   "execution_count": 8,
   "id": "e75c4a7f",
   "metadata": {},
   "outputs": [],
   "source": [
    "def get_results(competition, country_A, country_B):\n",
    "    win_A = 0 # country A win\n",
    "    draw = 0 # draw of country_A and country_B are equal\n",
    "    #lost_A = 0 # country A lost\n",
    "    for i, j, k, l in zip(competition['home_team'], competition['away_team'], competition['home_score'], competition['away_score']):\n",
    "        if ((i == country_A and k > l) or (j == country_A and k < l)):\n",
    "            win_A += 1\n",
    "        elif ((i == country_A and k == l) or (j == country_A and k == l)):\n",
    "            draw += 1\n",
    "    return [win_A, draw, len(competition)-(win_A + draw)]"
   ]
  },
  {
   "cell_type": "code",
   "execution_count": 12,
   "id": "5bfeb0cf",
   "metadata": {},
   "outputs": [
    {
     "data": {
      "text/plain": [
       "[4, 2, 1]"
      ]
     },
     "execution_count": 12,
     "metadata": {},
     "output_type": "execute_result"
    }
   ],
   "source": [
    "get_results(morco_malaw, 'Morocco','Malawi')"
   ]
  },
  {
   "cell_type": "code",
   "execution_count": 17,
   "id": "4d612224",
   "metadata": {},
   "outputs": [
    {
     "data": {
      "image/png": "[encoded data removed]",
      "text/plain": [
       "<Figure size 720x720 with 1 Axes>"
      ]
     },
     "metadata": {},
     "output_type": "display_data"
    }
   ],
   "source": [
    "labels1 = ['MOROCCO WON(4)', 'DRAW(2)', 'MALAWI WON(1)']\n",
    "sizes1 = get_results(morco_malaw, 'Morocco', 'Malawi')\n",
    "\n",
    "fig, ax1 = plt.subplots( figsize=(10, 10))\n",
    "\n",
    "ax1.pie(sizes1, labels=labels1, autopct='%.0f%%')\n",
    "\n",
    "\n",
    "\n",
    "ax1.set_title('ALL MATCHES(7)', fontsize=25, color='b')\n",
    "\n",
    "#plt.show()\n",
    "plt.savefig(\"images/morocco_malawi.png\")"
   ]
  },
  {
   "cell_type": "code",
   "execution_count": null,
   "id": "a3dda15e",
   "metadata": {},
   "outputs": [],
   "source": []
  }
 ],
 "metadata": {
  "kernelspec": {
   "display_name": "Python 3 (ipykernel)",
   "language": "python",
   "name": "python3"
  },
  "language_info": {
   "codemirror_mode": {
    "name": "ipython",
    "version": 3
   },
   "file_extension": ".py",
   "mimetype": "text/x-python",
   "name": "python",
   "nbconvert_exporter": "python",
   "pygments_lexer": "ipython3",
   "version": "3.9.7"
  }
 },
 "nbformat": 4,
 "nbformat_minor": 5
}
